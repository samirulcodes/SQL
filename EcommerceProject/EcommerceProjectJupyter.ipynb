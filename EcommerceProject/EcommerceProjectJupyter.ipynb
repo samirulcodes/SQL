{
 "cells": [
  {
   "cell_type": "code",
   "execution_count": 8,
   "id": "5e15f29e-4a38-4391-87c3-ceca8fd665dd",
   "metadata": {},
   "outputs": [],
   "source": [
    "import mysql.connector\n",
    "import numpy as np\n",
    "import pandas as pd\n",
    "import matplotlib.pyplot as plt"
   ]
  },
  {
   "cell_type": "code",
   "execution_count": 9,
   "id": "01913d00-4644-4614-9e15-61dcf727dfba",
   "metadata": {},
   "outputs": [],
   "source": [
    "db=mysql.connector.connect(host=\"localhost\",user=\"root\",password=\"@Amanaman321\",database=\"ecommerce\")"
   ]
  },
  {
   "cell_type": "code",
   "execution_count": 10,
   "id": "eb8c8e99-4d11-4b87-ab6d-23114d58cca4",
   "metadata": {},
   "outputs": [],
   "source": [
    "cus=db.cursor()"
   ]
  },
  {
   "cell_type": "code",
   "execution_count": 11,
   "id": "46496ea8-dfc6-47b6-bfb3-37a50613fc58",
   "metadata": {},
   "outputs": [
    {
     "name": "stdout",
     "output_type": "stream",
     "text": [
      "  customer_id     name              city                  email    phone_no  \\\n",
      "0       C1001    Steve             Tokyo        steve@gmail.com  4567897652   \n",
      "1       C1002     john            Sydney         john@gmail.com  9987234567   \n",
      "2       C1003    Peter          Kanagawa  peter.parker@mail.com  9969834567   \n",
      "3       C1004  Jackson             Tokyo      Jackson@gmail.com  7765834567   \n",
      "4       C1005     Jack  Lake Buena Vista         Jack@gmail.com  8876345678   \n",
      "\n",
      "                    address  pin_code  \n",
      "0                  f.g.road        99  \n",
      "1                  k.c.road     75001  \n",
      "2             2F Ikenobecho       171  \n",
      "3           24-2, Sendagaya      8429  \n",
      "4  1520 E Buena Vista Drive     32830  \n"
     ]
    }
   ],
   "source": [
    "cus.execute(\"select * from CUSTOMER1\") # customer table 1\n",
    "#data=cus.fetchall()\n",
    "#print(data)\n",
    "customer_data=pd.DataFrame(cus.fetchall(),columns=[desc[0] for desc in cus.description])\n",
    "print(customer_data.head()) # top 5 record"
   ]
  },
  {
   "cell_type": "code",
   "execution_count": 13,
   "id": "30a03039-ab9b-47a6-a84f-ab6dba53e8cc",
   "metadata": {},
   "outputs": [
    {
     "name": "stdout",
     "output_type": "stream",
     "text": [
      "city\n",
      "Tokyo               22\n",
      "Kanagawa            18\n",
      "Sydney              12\n",
      "Lake Buena Vista    10\n",
      "Name: count, dtype: int64\n"
     ]
    }
   ],
   "source": [
    "print(customer_data['city'].value_counts())        # city wise customer details"
   ]
  },
  {
   "cell_type": "code",
   "execution_count": 17,
   "id": "bb22f551-bc3c-4ead-b4f0-56e83729f05b",
   "metadata": {},
   "outputs": [
    {
     "data": {
      "text/plain": [
       "([<matplotlib.patches.Wedge at 0x227903827b0>,\n",
       "  <matplotlib.patches.Wedge at 0x2279038f610>,\n",
       "  <matplotlib.patches.Wedge at 0x2279038f890>,\n",
       "  <matplotlib.patches.Wedge at 0x2279038fb10>],\n",
       " [Text(0.4844335208866584, 0.9875850160069034, ''),\n",
       "  Text(-1.0999999999999959, -9.616505800409723e-08, ''),\n",
       "  Text(-0.0557138249210145, -1.0985881711144858, ''),\n",
       "  Text(0.9617813019850276, -0.5338321151373202, '')])"
      ]
     },
     "execution_count": 17,
     "metadata": {},
     "output_type": "execute_result"
    },
    {
     "data": {
      "image/png": "[encoded data removed]",
      "text/plain": [
       "<Figure size 640x480 with 1 Axes>"
      ]
     },
     "metadata": {},
     "output_type": "display_data"
    }
   ],
   "source": [
    "plt.pie(customer_data['city'].value_counts())         # pie diagram of city wise customer details(matplotlib)"
   ]
  },
  {
   "cell_type": "code",
   "execution_count": 36,
   "id": "2bef7686-6124-4482-b6f7-68459590738b",
   "metadata": {},
   "outputs": [
    {
     "data": {
      "text/plain": [
       "<Axes: xlabel='city'>"
      ]
     },
     "execution_count": 36,
     "metadata": {},
     "output_type": "execute_result"
    },
    {
     "data": {
      "image/png": "[encoded data removed]",
      "text/plain": [
       "<Figure size 640x480 with 1 Axes>"
      ]
     },
     "metadata": {},
     "output_type": "display_data"
    }
   ],
   "source": [
    "df=(customer_data['city'].value_counts())   # bar diagram of city wise customer details(matplotlib)\n",
    "df.plot(kind='bar', color='pink')\n",
    "#df.plot(kind='bar', color='pink')  # kind=bar,line,scatter"
   ]
  },
  {
   "cell_type": "code",
   "execution_count": null,
   "id": "3acafbdd-1f30-44a9-b51e-bd3df5eb7da0",
   "metadata": {},
   "outputs": [],
   "source": []
  },
  {
   "cell_type": "code",
   "execution_count": null,
   "id": "74c7db0b-704c-4a87-86d3-0f1a85e16728",
   "metadata": {},
   "outputs": [],
   "source": []
  },
  {
   "cell_type": "code",
   "execution_count": null,
   "id": "94ec1470-415e-4867-b9cb-ee0d8cd5de40",
   "metadata": {},
   "outputs": [],
   "source": []
  },
  {
   "cell_type": "code",
   "execution_count": null,
   "id": "fefdb50a-4756-4991-954b-301111cc576b",
   "metadata": {},
   "outputs": [],
   "source": []
  },
  {
   "cell_type": "code",
   "execution_count": null,
   "id": "0d4a392f-fc2d-40fa-9bbd-d89e2a1f4b50",
   "metadata": {},
   "outputs": [],
   "source": []
  },
  {
   "cell_type": "code",
   "execution_count": null,
   "id": "63357d8b-9fa6-4a4e-89d6-7f282573b749",
   "metadata": {},
   "outputs": [],
   "source": []
  },
  {
   "cell_type": "code",
   "execution_count": null,
   "id": "78f80f66-b010-434a-84d8-42fcb349f8af",
   "metadata": {},
   "outputs": [],
   "source": []
  },
  {
   "cell_type": "code",
   "execution_count": 15,
   "id": "b2964b1b-2701-41f1-add8-ac22f257263d",
   "metadata": {},
   "outputs": [
    {
     "name": "stdout",
     "output_type": "stream",
     "text": [
      "  product_id product_name     category sub_category  original_price  \\\n",
      "0       P102        Chair    furniture       Chairs         20000.0   \n",
      "1       P103       Laptop  Electronics     computer         60000.0   \n",
      "2       P104   Smartphone  Electronics        phone         45000.0   \n",
      "3       P105      Blender    Appliance  Electronics           500.0   \n",
      "4       P106    Laptop HP  Electronics    Computers         67200.0   \n",
      "\n",
      "   selling_price  stock  \n",
      "0       15000.00     10  \n",
      "1       55000.00     50  \n",
      "2       40000.00     20  \n",
      "3         450.00     10  \n",
      "4       55000.99     50  \n"
     ]
    }
   ],
   "source": [
    "cus.execute(\"select * from PRODUCTS1\")  # products table 2\n",
    "#data=cus.fetchall()\n",
    "#print(data)\n",
    "product_data=pd.DataFrame(cus.fetchall(),columns=[desc[0] for desc in cus.description])\n",
    "print(product_data.head())"
   ]
  },
  {
   "cell_type": "code",
   "execution_count": null,
   "id": "30e70e96-a21f-41a9-9a88-a8db892d0919",
   "metadata": {},
   "outputs": [],
   "source": []
  },
  {
   "cell_type": "code",
   "execution_count": null,
   "id": "a1b13093-c793-4a0e-9218-1549510aa52f",
   "metadata": {},
   "outputs": [],
   "source": []
  },
  {
   "cell_type": "code",
   "execution_count": null,
   "id": "19441179-3fa8-49d4-a4c6-fcf1ad12e111",
   "metadata": {},
   "outputs": [],
   "source": []
  },
  {
   "cell_type": "code",
   "execution_count": null,
   "id": "f37ae689-d557-4028-a984-6cb8eb1b8926",
   "metadata": {},
   "outputs": [],
   "source": []
  },
  {
   "cell_type": "code",
   "execution_count": null,
   "id": "84464ffb-c196-4aa2-b3c3-865e51e2b615",
   "metadata": {},
   "outputs": [],
   "source": []
  },
  {
   "cell_type": "code",
   "execution_count": null,
   "id": "e29e9d06-d014-4be9-9d9f-e645db0f5f0d",
   "metadata": {},
   "outputs": [],
   "source": []
  },
  {
   "cell_type": "code",
   "execution_count": null,
   "id": "31378f1a-8f60-40c1-b625-0266a42701d2",
   "metadata": {},
   "outputs": [],
   "source": []
  },
  {
   "cell_type": "code",
   "execution_count": null,
   "id": "41edc88d-321a-4afa-b4d0-7fc72e4fd436",
   "metadata": {},
   "outputs": [],
   "source": []
  },
  {
   "cell_type": "code",
   "execution_count": null,
   "id": "8bd21d9c-1eea-4b5b-9a65-8ddeb6c0230c",
   "metadata": {},
   "outputs": [],
   "source": []
  },
  {
   "cell_type": "code",
   "execution_count": 37,
   "id": "70fc078f-bf6a-4661-8369-263c12e0aeb3",
   "metadata": {},
   "outputs": [
    {
     "name": "stdout",
     "output_type": "stream",
     "text": [
      "   order_id customer_id product_id  quantity  total_price payment_mode  \\\n",
      "0         3       C1004       P112       1.0       1000.0          COD   \n",
      "1         4       C1005       P102       1.0      20000.0          COD   \n",
      "2         5       C1005       P102       1.0      20000.0          COD   \n",
      "3         7       C1006       P103       1.0      55000.0          COD   \n",
      "4         8       C1006       P102       1.0      15000.0          COD   \n",
      "\n",
      "  order_date order_status  \n",
      "0 2023-11-30      Pending  \n",
      "1 2023-11-30      Pending  \n",
      "2 2023-12-08    Delivered  \n",
      "3 2023-12-15    Delivered  \n",
      "4 2023-12-01    delivered  \n"
     ]
    }
   ],
   "source": [
    "cus.execute(\"select * from order_details1\")  # order details table 3\n",
    "order_data=pd.DataFrame(cus.fetchall(),columns=[desc[0] for desc in cus.description])\n",
    "print(order_data.head())\n",
    "# data=cus.fetchall()\n",
    "# print(data)"
   ]
  },
  {
   "cell_type": "code",
   "execution_count": 47,
   "id": "6b3d4260-41e4-4a62-a80d-16d66ea91a03",
   "metadata": {},
   "outputs": [
    {
     "name": "stdout",
     "output_type": "stream",
     "text": [
      "customer_id\n",
      "C1005    3\n",
      "C1010    3\n",
      "C1009    3\n",
      "C1013    3\n",
      "C1006    2\n",
      "C1008    2\n",
      "C1003    2\n",
      "C1014    2\n",
      "C1011    2\n",
      "C1015    2\n",
      "Name: count, dtype: int64\n"
     ]
    },
    {
     "data": {
      "text/plain": [
       "<Axes: xlabel='customer_id'>"
      ]
     },
     "execution_count": 47,
     "metadata": {},
     "output_type": "execute_result"
    },
    {
     "data": {
      "image/png": "[encoded data removed]",
      "text/plain": [
       "<Figure size 640x480 with 1 Axes>"
      ]
     },
     "metadata": {},
     "output_type": "display_data"
    }
   ],
   "source": [
    "df=order_data['customer_id'].value_counts().head(10) #  Top 10 details , Determine the total number of products(no. of order) available by customer_id.\n",
    "print(df.head(10))\n",
    "df.plot(kind='bar', color='pink')  # bar diagram"
   ]
  },
  {
   "cell_type": "code",
   "execution_count": null,
   "id": "a554b5ce-6552-4dce-bbc5-4af290c1dc53",
   "metadata": {},
   "outputs": [],
   "source": []
  },
  {
   "cell_type": "code",
   "execution_count": null,
   "id": "558bf0dd-284f-46f4-ae5d-0b260fedec63",
   "metadata": {},
   "outputs": [],
   "source": []
  },
  {
   "cell_type": "code",
   "execution_count": null,
   "id": "ac29b356-4f48-40e2-908d-3a3f9f779c43",
   "metadata": {},
   "outputs": [],
   "source": []
  },
  {
   "cell_type": "code",
   "execution_count": null,
   "id": "953794c4-15cb-42cd-8c17-dab9a2d9fcc0",
   "metadata": {},
   "outputs": [],
   "source": []
  },
  {
   "cell_type": "code",
   "execution_count": null,
   "id": "2979eb97-149c-4d1d-852e-f794ad307f6f",
   "metadata": {},
   "outputs": [],
   "source": []
  },
  {
   "cell_type": "code",
   "execution_count": null,
   "id": "c6e792ff-0afc-4634-8672-a984fbf54507",
   "metadata": {},
   "outputs": [],
   "source": []
  },
  {
   "cell_type": "code",
   "execution_count": null,
   "id": "439766af-c4a8-4618-a7b8-b0e044d2c561",
   "metadata": {},
   "outputs": [],
   "source": []
  },
  {
   "cell_type": "code",
   "execution_count": null,
   "id": "53761d66-b58a-4a3b-865c-510f6b4d1f1d",
   "metadata": {},
   "outputs": [],
   "source": []
  },
  {
   "cell_type": "code",
   "execution_count": null,
   "id": "0477b7a0-a126-4be5-b198-2ba98894c280",
   "metadata": {},
   "outputs": [],
   "source": []
  },
  {
   "cell_type": "code",
   "execution_count": null,
   "id": "9144b39d-1e43-46ce-ad5c-9724822bc12b",
   "metadata": {},
   "outputs": [],
   "source": []
  },
  {
   "cell_type": "code",
   "execution_count": null,
   "id": "ee723f8b-2313-4bb7-9dad-797d8792cb73",
   "metadata": {},
   "outputs": [],
   "source": []
  },
  {
   "cell_type": "code",
   "execution_count": null,
   "id": "ed66ddce-fd0f-472b-ac56-d9a6bb1ea0fd",
   "metadata": {},
   "outputs": [],
   "source": []
  },
  {
   "cell_type": "code",
   "execution_count": null,
   "id": "9d34ec45-a7e3-47d9-bd7c-b8831d679e0b",
   "metadata": {},
   "outputs": [],
   "source": []
  },
  {
   "cell_type": "code",
   "execution_count": null,
   "id": "ed6e76ec-8a00-4f72-a00c-d87ee11baab0",
   "metadata": {},
   "outputs": [],
   "source": []
  }
 ],
 "metadata": {
  "kernelspec": {
   "display_name": "Python 3 (ipykernel)",
   "language": "python",
   "name": "python3"
  },
  "language_info": {
   "codemirror_mode": {
    "name": "ipython",
    "version": 3
   },
   "file_extension": ".py",
   "mimetype": "text/x-python",
   "name": "python",
   "nbconvert_exporter": "python",
   "pygments_lexer": "ipython3",
   "version": "3.13.0"
  }
 },
 "nbformat": 4,
 "nbformat_minor": 5
}
