{
 "cells": [
  {
   "cell_type": "code",
   "execution_count": 1,
   "id": "3757e6a9-b4d6-41ca-808f-ddb7b3cbd633",
   "metadata": {},
   "outputs": [],
   "source": [
    "import mysql.connector"
   ]
  },
  {
   "cell_type": "code",
   "execution_count": 14,
   "id": "0074f6f1-62af-4f1e-91a0-8fb76881c272",
   "metadata": {},
   "outputs": [],
   "source": [
    "db=mysql.connector.connect(host=\"localhost\",user=\"root\",password=\"@Amanaman321\",database=\"pro\")"
   ]
  },
  {
   "cell_type": "code",
   "execution_count": 15,
   "id": "f06a301f-0f80-4b22-8c34-59a4b7583af6",
   "metadata": {},
   "outputs": [
    {
     "name": "stdout",
     "output_type": "stream",
     "text": [
      "<mysql.connector.connection_cext.CMySQLConnection object at 0x0000025191AEC190>\n"
     ]
    }
   ],
   "source": [
    "print(db)"
   ]
  },
  {
   "cell_type": "code",
   "execution_count": 16,
   "id": "bfeebb12-cd61-4eca-a955-0cf1ca9455c0",
   "metadata": {},
   "outputs": [],
   "source": [
    "cursorobj=db.cursor()  # create cursor object"
   ]
  },
  {
   "cell_type": "code",
   "execution_count": 16,
   "id": "bf60d5f8-ffcc-4d69-90c5-27bcbcba5872",
   "metadata": {},
   "outputs": [],
   "source": [
    "#cursorobj.execute(\"create database pro\")  # perform operation"
   ]
  },
  {
   "cell_type": "code",
   "execution_count": 25,
   "id": "3e0e2a58-d842-4246-853b-11c363d5203f",
   "metadata": {},
   "outputs": [],
   "source": [
    "cursorobj.execute(\"create table students4(id int,name varchar(20))\")"
   ]
  },
  {
   "cell_type": "code",
   "execution_count": 33,
   "id": "1a8d536b-d501-456c-85fe-002e6d434704",
   "metadata": {},
   "outputs": [],
   "source": [
    "# cursorobj.execute(\"insert into students4 values (1,'Rahul')\")\n",
    "# cursorobj.execute(\"insert into students4 values (2,'Aman')\")\n",
    "# cursorobj.execute(\"insert into students4 values (3,'Harry')\")\n",
    "# db.commit()"
   ]
  },
  {
   "cell_type": "code",
   "execution_count": 34,
   "id": "f8f35a57-cef9-4be7-9ac3-059327365bb8",
   "metadata": {},
   "outputs": [],
   "source": [
    "cursorobj.execute(\"select * from students4\")  # retrive data ( data will show in jupyter notebook)\n",
    "data=cursorobj.fetchall()"
   ]
  },
  {
   "cell_type": "code",
   "execution_count": 35,
   "id": "0826e68b-f243-4800-a607-21caf1ae100d",
   "metadata": {},
   "outputs": [
    {
     "name": "stdout",
     "output_type": "stream",
     "text": [
      "(1, 'Rahul')\n",
      "(1, 'Rahul')\n",
      "(1, 'Rahul')\n",
      "(1, 'Rahul')\n",
      "(2, 'Aman')\n",
      "(3, 'Harry')\n"
     ]
    }
   ],
   "source": [
    "for r in data:  # data will display here whatever data inserting into sql table\n",
    "    print(r)"
   ]
  },
  {
   "cell_type": "code",
   "execution_count": null,
   "id": "9b000d5c-13bd-4967-a5ab-f43e055761e0",
   "metadata": {},
   "outputs": [],
   "source": [
    "db.close() # close the connection"
   ]
  },
  {
   "cell_type": "code",
   "execution_count": null,
   "id": "3d42bb2a-3296-4590-8569-7bb6798b8c54",
   "metadata": {},
   "outputs": [],
   "source": []
  },
  {
   "cell_type": "code",
   "execution_count": null,
   "id": "fa8cdff3-ade4-4172-ba74-83764a98de19",
   "metadata": {},
   "outputs": [],
   "source": []
  },
  {
   "cell_type": "code",
   "execution_count": null,
   "id": "d250f75e-afef-4d26-824d-9940df2cbbcf",
   "metadata": {},
   "outputs": [],
   "source": []
  },
  {
   "cell_type": "code",
   "execution_count": 17,
   "id": "aa617fb3-b862-401a-8631-06a4c9f56652",
   "metadata": {},
   "outputs": [],
   "source": []
  },
  {
   "cell_type": "code",
   "execution_count": 4,
   "id": "5d90c735-9209-41e9-ade7-083314e46cea",
   "metadata": {},
   "outputs": [],
   "source": []
  },
  {
   "cell_type": "code",
   "execution_count": 5,
   "id": "e3440fb8-5388-48cf-aae3-90f2349d5d7b",
   "metadata": {},
   "outputs": [],
   "source": []
  },
  {
   "cell_type": "code",
   "execution_count": null,
   "id": "46efe5f8-fac9-4dd6-be25-d64322d9f8b2",
   "metadata": {},
   "outputs": [],
   "source": []
  },
  {
   "cell_type": "code",
   "execution_count": null,
   "id": "a50ece58-220f-4c08-90f5-3cab933ee603",
   "metadata": {},
   "outputs": [],
   "source": []
  },
  {
   "cell_type": "code",
   "execution_count": null,
   "id": "7cab71f7-c0cd-474b-8777-89869dcce8b8",
   "metadata": {},
   "outputs": [],
   "source": []
  }
 ],
 "metadata": {
  "kernelspec": {
   "display_name": "Python 3 (ipykernel)",
   "language": "python",
   "name": "python3"
  },
  "language_info": {
   "codemirror_mode": {
    "name": "ipython",
    "version": 3
   },
   "file_extension": ".py",
   "mimetype": "text/x-python",
   "name": "python",
   "nbconvert_exporter": "python",
   "pygments_lexer": "ipython3",
   "version": "3.13.0"
  }
 },
 "nbformat": 4,
 "nbformat_minor": 5
}
